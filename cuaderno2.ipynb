{
 "cells": [
  {
   "cell_type": "markdown",
   "id": "2c7bad72-0c57-48c2-b653-a6a8612f35e5",
   "metadata": {},
   "source": [
    "### Parte 2\n",
    "\n",
    "* Trabajar en un archivo llamado cuaderno2.ipynb\n",
    "* Leer el archivo previo generado\n",
    "* Visualizar la información a través de PyGWalker (instalar previo - https://github.com/Kanaries/pygwalker)\n",
    " * Un gráfico que muestre el número de registros por cada edad\n",
    " * Un gráfico que muestre el número de registros por cada provincia "
   ]
  },
  {
   "cell_type": "code",
   "execution_count": 14,
   "id": "11201072-6034-492f-a527-14aff03b1fb4",
   "metadata": {},
   "outputs": [],
   "source": [
    "import pandas as pd\n",
    "import pygwalker as pyg"
   ]
  },
  {
   "cell_type": "code",
   "execution_count": 15,
   "id": "cfd5b5d6-b2f6-49dc-907d-001514510232",
   "metadata": {},
   "outputs": [],
   "source": [
    "data = pd.read_csv(\"cuaderno.csv\")"
   ]
  },
  {
   "cell_type": "code",
   "execution_count": null,
   "id": "057b4d08-1a27-43eb-bc1a-3c5838e75484",
   "metadata": {},
   "outputs": [
    {
     "data": {
      "application/vnd.jupyter.widget-view+json": {
       "model_id": "a8056e998118495f9ffe17a3228d7995",
       "version_major": 2,
       "version_minor": 0
      },
      "text/plain": [
       "Box(children=(HTML(value='\\n<div id=\"ifr-pyg-000633a551940455todYB0HQeLmkEb1r\" style=\"height: auto\">\\n    <hea…"
      ]
     },
     "metadata": {},
     "output_type": "display_data"
    },
    {
     "data": {
      "text/html": [
       "<script>\n",
       "    window.addEventListener(\"message\", function(event) {\n",
       "        const backgroundMap = {\n",
       "            \"dark\": \"hsl(240 10% 3.9%)\",\n",
       "            \"light\": \"hsl(0 0 100%)\",\n",
       "        };\n",
       "        const colorMap = {\n",
       "            \"dark\": \"hsl(0 0% 98%)\",\n",
       "            \"light\": \"hsl(240 10% 3.9%)\",\n",
       "        };\n",
       "        if (event.data.action === \"changeAppearance\" && event.data.gid === \"000633a551940455todYB0HQeLmkEb1r\") {\n",
       "            var iframe = document.getElementById(\"gwalker-000633a551940455todYB0HQeLmkEb1r\");\n",
       "            iframe.style.background  = backgroundMap[event.data.appearance];\n",
       "            iframe.style.color = colorMap[event.data.appearance];\n",
       "        }\n",
       "    });\n",
       "</script>"
      ],
      "text/plain": [
       "<IPython.core.display.HTML object>"
      ]
     },
     "metadata": {},
     "output_type": "display_data"
    },
    {
     "data": {
      "text/html": [],
      "text/plain": [
       "<IPython.core.display.HTML object>"
      ]
     },
     "metadata": {},
     "output_type": "display_data"
    },
    {
     "data": {
      "text/plain": [
       "<pygwalker.api.pygwalker.PygWalker at 0x7cb5c4ef22a0>"
      ]
     },
     "execution_count": 16,
     "metadata": {},
     "output_type": "execute_result"
    }
   ],
   "source": [
    "pyg.walk(data)"
   ]
  },
  {
   "cell_type": "code",
   "execution_count": null,
   "id": "0fe40901-5835-42f7-925b-4a067f1e4bd2",
   "metadata": {},
   "outputs": [],
   "source": []
  }
 ],
 "metadata": {
  "kernelspec": {
   "display_name": "Python 3 (ipykernel)",
   "language": "python",
   "name": "python3"
  },
  "language_info": {
   "codemirror_mode": {
    "name": "ipython",
    "version": 3
   },
   "file_extension": ".py",
   "mimetype": "text/x-python",
   "name": "python",
   "nbconvert_exporter": "python",
   "pygments_lexer": "ipython3",
   "version": "3.12.3"
  }
 },
 "nbformat": 4,
 "nbformat_minor": 5
}
