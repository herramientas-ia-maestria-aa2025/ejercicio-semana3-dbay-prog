{
 "cells": [
  {
   "cell_type": "markdown",
   "id": "89ce8c77-44b5-44c0-b475-8b7f0f316ad4",
   "metadata": {},
   "source": [
    "### Parte 1\n",
    "* Trabajar en un archivo llamado cuaderno1.ipynb\n",
    "* Crear un conjunto de datos usando la librería https://faker.readthedocs.io/en/master/\n",
    "* El número de registros que se debe generar es de 10000\n",
    "* El conjunto de datoss tendrá las siguientes características:\n",
    "    * Para cada registro usar las características: fake.name(), fake.last_name(), fake.email(), fake.address()\n",
    "* Pasar los registros a un dataframe de pandas\n",
    "* Agregar dos características más:\n",
    "    * Edad, comprendidas entre 30 y 40 años\n",
    "    * Provincia, entre las opciones (Loja, Pichincha, Guayas, Azuay, Manabí)\n",
    "* Pasar el dataframe a un archivo csv"
   ]
  },
  {
   "cell_type": "code",
   "execution_count": 57,
   "id": "5e2cb20b-629c-41e8-8041-8765ac5317e6",
   "metadata": {},
   "outputs": [],
   "source": [
    "import pandas as pd\n",
    "from faker import Faker "
   ]
  },
  {
   "cell_type": "code",
   "execution_count": 58,
   "id": "c24707c2-f12f-49b6-a6bc-696d8b598c25",
   "metadata": {},
   "outputs": [],
   "source": [
    "fake = Faker()\n",
    "lista = []\n",
    "for x in range(0, 10000):\n",
    "    lista.append({'Nombre': fake.name(), 'Apellido':fake.last_name(), 'Correo':fake.email(), 'Direccion':fake.address() })"
   ]
  },
  {
   "cell_type": "code",
   "execution_count": 59,
   "id": "7f9d6338-3c56-4d24-b182-c987f3e8a3da",
   "metadata": {},
   "outputs": [
    {
     "data": {
      "text/html": [
       "<div>\n",
       "<style scoped>\n",
       "    .dataframe tbody tr th:only-of-type {\n",
       "        vertical-align: middle;\n",
       "    }\n",
       "\n",
       "    .dataframe tbody tr th {\n",
       "        vertical-align: top;\n",
       "    }\n",
       "\n",
       "    .dataframe thead th {\n",
       "        text-align: right;\n",
       "    }\n",
       "</style>\n",
       "<table border=\"1\" class=\"dataframe\">\n",
       "  <thead>\n",
       "    <tr style=\"text-align: right;\">\n",
       "      <th></th>\n",
       "      <th>Nombre</th>\n",
       "      <th>Apellido</th>\n",
       "      <th>Correo</th>\n",
       "      <th>Direccion</th>\n",
       "    </tr>\n",
       "  </thead>\n",
       "  <tbody>\n",
       "    <tr>\n",
       "      <th>0</th>\n",
       "      <td>Karen Todd</td>\n",
       "      <td>Smith</td>\n",
       "      <td>jamesbrown@example.net</td>\n",
       "      <td>PSC 4392, Box 9221\\nAPO AP 59716</td>\n",
       "    </tr>\n",
       "    <tr>\n",
       "      <th>1</th>\n",
       "      <td>Jeremy Carter</td>\n",
       "      <td>Fitzgerald</td>\n",
       "      <td>jfletcher@example.com</td>\n",
       "      <td>561 Steven Inlet\\nSouth Janet, WI 87012</td>\n",
       "    </tr>\n",
       "    <tr>\n",
       "      <th>2</th>\n",
       "      <td>John Taylor</td>\n",
       "      <td>Parker</td>\n",
       "      <td>luke12@example.net</td>\n",
       "      <td>99224 Samantha Garden Suite 182\\nBrendashire, ...</td>\n",
       "    </tr>\n",
       "    <tr>\n",
       "      <th>3</th>\n",
       "      <td>Belinda Dunn</td>\n",
       "      <td>Baker</td>\n",
       "      <td>shannon93@example.com</td>\n",
       "      <td>98223 Stevenson Mountains\\nSouth Nicholasview,...</td>\n",
       "    </tr>\n",
       "    <tr>\n",
       "      <th>4</th>\n",
       "      <td>Jake Chapman</td>\n",
       "      <td>Johnson</td>\n",
       "      <td>cjones@example.org</td>\n",
       "      <td>Unit 3358 Box 6818\\nDPO AA 17300</td>\n",
       "    </tr>\n",
       "  </tbody>\n",
       "</table>\n",
       "</div>"
      ],
      "text/plain": [
       "          Nombre    Apellido                  Correo  \\\n",
       "0     Karen Todd       Smith  jamesbrown@example.net   \n",
       "1  Jeremy Carter  Fitzgerald   jfletcher@example.com   \n",
       "2    John Taylor      Parker      luke12@example.net   \n",
       "3   Belinda Dunn       Baker   shannon93@example.com   \n",
       "4   Jake Chapman     Johnson      cjones@example.org   \n",
       "\n",
       "                                           Direccion  \n",
       "0                   PSC 4392, Box 9221\\nAPO AP 59716  \n",
       "1            561 Steven Inlet\\nSouth Janet, WI 87012  \n",
       "2  99224 Samantha Garden Suite 182\\nBrendashire, ...  \n",
       "3  98223 Stevenson Mountains\\nSouth Nicholasview,...  \n",
       "4                   Unit 3358 Box 6818\\nDPO AA 17300  "
      ]
     },
     "execution_count": 59,
     "metadata": {},
     "output_type": "execute_result"
    }
   ],
   "source": [
    "data = pd.DataFrame(lista)\n",
    "data.head()"
   ]
  },
  {
   "cell_type": "code",
   "execution_count": 60,
   "id": "73969b68-eefc-4cd3-b6f8-324d1a6ac754",
   "metadata": {},
   "outputs": [],
   "source": [
    "import random"
   ]
  },
  {
   "cell_type": "code",
   "execution_count": 61,
   "id": "fb33cb37-d0c7-4741-8da3-d2d6a6685a31",
   "metadata": {},
   "outputs": [],
   "source": [
    "provincias = ['Loja', 'Pichincha', 'Guayas', 'Azuay', 'Manabí']\n",
    "edad_provincia = []\n",
    "for x in range(0,10000):\n",
    "    edad_provincia.append({'Edad':random.randint(30,40), 'Provincias':random.choices(provincias)[0]})"
   ]
  },
  {
   "cell_type": "code",
   "execution_count": 62,
   "id": "75387ceb-91d4-407b-ac0d-c33b5201c52c",
   "metadata": {},
   "outputs": [
    {
     "data": {
      "text/html": [
       "<div>\n",
       "<style scoped>\n",
       "    .dataframe tbody tr th:only-of-type {\n",
       "        vertical-align: middle;\n",
       "    }\n",
       "\n",
       "    .dataframe tbody tr th {\n",
       "        vertical-align: top;\n",
       "    }\n",
       "\n",
       "    .dataframe thead th {\n",
       "        text-align: right;\n",
       "    }\n",
       "</style>\n",
       "<table border=\"1\" class=\"dataframe\">\n",
       "  <thead>\n",
       "    <tr style=\"text-align: right;\">\n",
       "      <th></th>\n",
       "      <th>Edad</th>\n",
       "      <th>Provincias</th>\n",
       "    </tr>\n",
       "  </thead>\n",
       "  <tbody>\n",
       "    <tr>\n",
       "      <th>0</th>\n",
       "      <td>35</td>\n",
       "      <td>Azuay</td>\n",
       "    </tr>\n",
       "    <tr>\n",
       "      <th>1</th>\n",
       "      <td>32</td>\n",
       "      <td>Manabí</td>\n",
       "    </tr>\n",
       "    <tr>\n",
       "      <th>2</th>\n",
       "      <td>40</td>\n",
       "      <td>Manabí</td>\n",
       "    </tr>\n",
       "    <tr>\n",
       "      <th>3</th>\n",
       "      <td>36</td>\n",
       "      <td>Pichincha</td>\n",
       "    </tr>\n",
       "    <tr>\n",
       "      <th>4</th>\n",
       "      <td>38</td>\n",
       "      <td>Loja</td>\n",
       "    </tr>\n",
       "  </tbody>\n",
       "</table>\n",
       "</div>"
      ],
      "text/plain": [
       "   Edad Provincias\n",
       "0    35      Azuay\n",
       "1    32     Manabí\n",
       "2    40     Manabí\n",
       "3    36  Pichincha\n",
       "4    38       Loja"
      ]
     },
     "execution_count": 62,
     "metadata": {},
     "output_type": "execute_result"
    }
   ],
   "source": [
    "df = pd.DataFrame(edad_provincia)\n",
    "df.head()"
   ]
  },
  {
   "cell_type": "code",
   "execution_count": 63,
   "id": "88fb9ee2-6a4e-4a5e-b4e7-e5a72503f35a",
   "metadata": {},
   "outputs": [
    {
     "data": {
      "text/html": [
       "<div>\n",
       "<style scoped>\n",
       "    .dataframe tbody tr th:only-of-type {\n",
       "        vertical-align: middle;\n",
       "    }\n",
       "\n",
       "    .dataframe tbody tr th {\n",
       "        vertical-align: top;\n",
       "    }\n",
       "\n",
       "    .dataframe thead th {\n",
       "        text-align: right;\n",
       "    }\n",
       "</style>\n",
       "<table border=\"1\" class=\"dataframe\">\n",
       "  <thead>\n",
       "    <tr style=\"text-align: right;\">\n",
       "      <th></th>\n",
       "      <th>Nombre</th>\n",
       "      <th>Apellido</th>\n",
       "      <th>Correo</th>\n",
       "      <th>Direccion</th>\n",
       "      <th>Edad</th>\n",
       "      <th>Provincias</th>\n",
       "    </tr>\n",
       "  </thead>\n",
       "  <tbody>\n",
       "    <tr>\n",
       "      <th>0</th>\n",
       "      <td>Karen Todd</td>\n",
       "      <td>Smith</td>\n",
       "      <td>jamesbrown@example.net</td>\n",
       "      <td>PSC 4392, Box 9221\\nAPO AP 59716</td>\n",
       "      <td>35</td>\n",
       "      <td>Azuay</td>\n",
       "    </tr>\n",
       "    <tr>\n",
       "      <th>1</th>\n",
       "      <td>Jeremy Carter</td>\n",
       "      <td>Fitzgerald</td>\n",
       "      <td>jfletcher@example.com</td>\n",
       "      <td>561 Steven Inlet\\nSouth Janet, WI 87012</td>\n",
       "      <td>32</td>\n",
       "      <td>Manabí</td>\n",
       "    </tr>\n",
       "    <tr>\n",
       "      <th>2</th>\n",
       "      <td>John Taylor</td>\n",
       "      <td>Parker</td>\n",
       "      <td>luke12@example.net</td>\n",
       "      <td>99224 Samantha Garden Suite 182\\nBrendashire, ...</td>\n",
       "      <td>40</td>\n",
       "      <td>Manabí</td>\n",
       "    </tr>\n",
       "    <tr>\n",
       "      <th>3</th>\n",
       "      <td>Belinda Dunn</td>\n",
       "      <td>Baker</td>\n",
       "      <td>shannon93@example.com</td>\n",
       "      <td>98223 Stevenson Mountains\\nSouth Nicholasview,...</td>\n",
       "      <td>36</td>\n",
       "      <td>Pichincha</td>\n",
       "    </tr>\n",
       "    <tr>\n",
       "      <th>4</th>\n",
       "      <td>Jake Chapman</td>\n",
       "      <td>Johnson</td>\n",
       "      <td>cjones@example.org</td>\n",
       "      <td>Unit 3358 Box 6818\\nDPO AA 17300</td>\n",
       "      <td>38</td>\n",
       "      <td>Loja</td>\n",
       "    </tr>\n",
       "  </tbody>\n",
       "</table>\n",
       "</div>"
      ],
      "text/plain": [
       "          Nombre    Apellido                  Correo  \\\n",
       "0     Karen Todd       Smith  jamesbrown@example.net   \n",
       "1  Jeremy Carter  Fitzgerald   jfletcher@example.com   \n",
       "2    John Taylor      Parker      luke12@example.net   \n",
       "3   Belinda Dunn       Baker   shannon93@example.com   \n",
       "4   Jake Chapman     Johnson      cjones@example.org   \n",
       "\n",
       "                                           Direccion  Edad Provincias  \n",
       "0                   PSC 4392, Box 9221\\nAPO AP 59716    35      Azuay  \n",
       "1            561 Steven Inlet\\nSouth Janet, WI 87012    32     Manabí  \n",
       "2  99224 Samantha Garden Suite 182\\nBrendashire, ...    40     Manabí  \n",
       "3  98223 Stevenson Mountains\\nSouth Nicholasview,...    36  Pichincha  \n",
       "4                   Unit 3358 Box 6818\\nDPO AA 17300    38       Loja  "
      ]
     },
     "execution_count": 63,
     "metadata": {},
     "output_type": "execute_result"
    }
   ],
   "source": [
    "data = pd.concat([data,df], axis=1)\n",
    "data.head()"
   ]
  },
  {
   "cell_type": "code",
   "execution_count": 64,
   "id": "3a5de4da-370c-4601-8f89-f131df260c5c",
   "metadata": {},
   "outputs": [],
   "source": [
    "data.to_csv(\"cuaderno.csv\")"
   ]
  },
  {
   "cell_type": "code",
   "execution_count": null,
   "id": "35be6b56-1fe4-444f-b2f0-9afbe66d9f57",
   "metadata": {},
   "outputs": [],
   "source": []
  }
 ],
 "metadata": {
  "kernelspec": {
   "display_name": "Python 3 (ipykernel)",
   "language": "python",
   "name": "python3"
  },
  "language_info": {
   "codemirror_mode": {
    "name": "ipython",
    "version": 3
   },
   "file_extension": ".py",
   "mimetype": "text/x-python",
   "name": "python",
   "nbconvert_exporter": "python",
   "pygments_lexer": "ipython3",
   "version": "3.12.3"
  }
 },
 "nbformat": 4,
 "nbformat_minor": 5
}
